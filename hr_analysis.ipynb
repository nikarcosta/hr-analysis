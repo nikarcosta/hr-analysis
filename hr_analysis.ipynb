{
 "cells": [
  {
   "cell_type": "code",
   "execution_count": null,
   "metadata": {},
   "outputs": [],
   "source": [
    "import numpy as np\n",
    "import pandas as pd\n",
    "import matplotlib.pyplot as plt\n",
    "import matplotlib as mpl\n",
    "import seaborn as sns"
   ]
  },
  {
   "cell_type": "code",
   "execution_count": 5,
   "metadata": {},
   "outputs": [
    {
     "name": "stdout",
     "output_type": "stream",
     "text": [
      "<class 'pandas.core.frame.DataFrame'>\n",
      "RangeIndex: 311 entries, 0 to 310\n",
      "Data columns (total 36 columns):\n",
      " #   Column                      Non-Null Count  Dtype  \n",
      "---  ------                      --------------  -----  \n",
      " 0   Employee_Name               311 non-null    object \n",
      " 1   EmpID                       311 non-null    int64  \n",
      " 2   MarriedID                   311 non-null    int64  \n",
      " 3   MaritalStatusID             311 non-null    int64  \n",
      " 4   GenderID                    311 non-null    int64  \n",
      " 5   EmpStatusID                 311 non-null    int64  \n",
      " 6   DeptID                      311 non-null    int64  \n",
      " 7   PerfScoreID                 311 non-null    int64  \n",
      " 8   FromDiversityJobFairID      311 non-null    int64  \n",
      " 9   Salary                      311 non-null    int64  \n",
      " 10  Termd                       311 non-null    int64  \n",
      " 11  PositionID                  311 non-null    int64  \n",
      " 12  Position                    311 non-null    object \n",
      " 13  State                       311 non-null    object \n",
      " 14  Zip                         311 non-null    int64  \n",
      " 15  DOB                         311 non-null    object \n",
      " 16  Sex                         311 non-null    object \n",
      " 17  MaritalDesc                 311 non-null    object \n",
      " 18  CitizenDesc                 311 non-null    object \n",
      " 19  HispanicLatino              311 non-null    object \n",
      " 20  RaceDesc                    311 non-null    object \n",
      " 21  DateofHire                  311 non-null    object \n",
      " 22  DateofTermination           104 non-null    object \n",
      " 23  TermReason                  311 non-null    object \n",
      " 24  EmploymentStatus            311 non-null    object \n",
      " 25  Department                  311 non-null    object \n",
      " 26  ManagerName                 311 non-null    object \n",
      " 27  ManagerID                   303 non-null    float64\n",
      " 28  RecruitmentSource           311 non-null    object \n",
      " 29  PerformanceScore            311 non-null    object \n",
      " 30  EngagementSurvey            311 non-null    float64\n",
      " 31  EmpSatisfaction             311 non-null    int64  \n",
      " 32  SpecialProjectsCount        311 non-null    int64  \n",
      " 33  LastPerformanceReview_Date  311 non-null    object \n",
      " 34  DaysLateLast30              311 non-null    int64  \n",
      " 35  Absences                    311 non-null    int64  \n",
      "dtypes: float64(2), int64(16), object(18)\n",
      "memory usage: 87.6+ KB\n",
      "None\n"
     ]
    }
   ],
   "source": [
    "employees = pd.read_csv('10 - HRDataset_v14.csv')\n",
    "\n",
    "print(employees.info())\n"
   ]
  },
  {
   "cell_type": "code",
   "execution_count": 6,
   "metadata": {},
   "outputs": [
    {
     "name": "stdout",
     "output_type": "stream",
     "text": [
      "              EmpID   MarriedID  MaritalStatusID    GenderID  EmpStatusID  \\\n",
      "count    311.000000  311.000000       311.000000  311.000000   311.000000   \n",
      "mean   10156.000000    0.398714         0.810289    0.434084     2.392283   \n",
      "std       89.922189    0.490423         0.943239    0.496435     1.794383   \n",
      "min    10001.000000    0.000000         0.000000    0.000000     1.000000   \n",
      "25%    10078.500000    0.000000         0.000000    0.000000     1.000000   \n",
      "50%    10156.000000    0.000000         1.000000    0.000000     1.000000   \n",
      "75%    10233.500000    1.000000         1.000000    1.000000     5.000000   \n",
      "max    10311.000000    1.000000         4.000000    1.000000     5.000000   \n",
      "\n",
      "           DeptID  PerfScoreID  FromDiversityJobFairID         Salary  \\\n",
      "count  311.000000   311.000000              311.000000     311.000000   \n",
      "mean     4.610932     2.977492                0.093248   69020.684887   \n",
      "std      1.083487     0.587072                0.291248   25156.636930   \n",
      "min      1.000000     1.000000                0.000000   45046.000000   \n",
      "25%      5.000000     3.000000                0.000000   55501.500000   \n",
      "50%      5.000000     3.000000                0.000000   62810.000000   \n",
      "75%      5.000000     3.000000                0.000000   72036.000000   \n",
      "max      6.000000     4.000000                1.000000  250000.000000   \n",
      "\n",
      "            Termd  PositionID           Zip   ManagerID  EngagementSurvey  \\\n",
      "count  311.000000  311.000000    311.000000  303.000000        311.000000   \n",
      "mean     0.334405   16.845659   6555.482315   14.570957          4.110000   \n",
      "std      0.472542    6.223419  16908.396884    8.078306          0.789938   \n",
      "min      0.000000    1.000000   1013.000000    1.000000          1.120000   \n",
      "25%      0.000000   18.000000   1901.500000   10.000000          3.690000   \n",
      "50%      0.000000   19.000000   2132.000000   15.000000          4.280000   \n",
      "75%      1.000000   20.000000   2355.000000   19.000000          4.700000   \n",
      "max      1.000000   30.000000  98052.000000   39.000000          5.000000   \n",
      "\n",
      "       EmpSatisfaction  SpecialProjectsCount  DaysLateLast30    Absences  \n",
      "count       311.000000            311.000000      311.000000  311.000000  \n",
      "mean          3.890675              1.218650        0.414791   10.237942  \n",
      "std           0.909241              2.349421        1.294519    5.852596  \n",
      "min           1.000000              0.000000        0.000000    1.000000  \n",
      "25%           3.000000              0.000000        0.000000    5.000000  \n",
      "50%           4.000000              0.000000        0.000000   10.000000  \n",
      "75%           5.000000              0.000000        0.000000   15.000000  \n",
      "max           5.000000              8.000000        6.000000   20.000000  \n"
     ]
    }
   ],
   "source": [
    "print(employees.describe())\n"
   ]
  },
  {
   "cell_type": "code",
   "execution_count": 7,
   "metadata": {},
   "outputs": [
    {
     "name": "stdout",
     "output_type": "stream",
     "text": [
      "              Employee_Name  EmpID  MarriedID  MaritalStatusID  GenderID  \\\n",
      "0       Adinolfi, Wilson  K  10026          0                0         1   \n",
      "1  Ait Sidi, Karthikeyan     10084          1                1         1   \n",
      "2         Akinkuolie, Sarah  10196          1                1         0   \n",
      "3              Alagbe,Trina  10088          1                1         0   \n",
      "4          Anderson, Carol   10069          0                2         0   \n",
      "\n",
      "   EmpStatusID  DeptID  PerfScoreID  FromDiversityJobFairID  Salary  ...  \\\n",
      "0            1       5            4                       0   62506  ...   \n",
      "1            5       3            3                       0  104437  ...   \n",
      "2            5       5            3                       0   64955  ...   \n",
      "3            1       5            3                       0   64991  ...   \n",
      "4            5       5            3                       0   50825  ...   \n",
      "\n",
      "      ManagerName  ManagerID RecruitmentSource PerformanceScore  \\\n",
      "0  Michael Albert       22.0          LinkedIn          Exceeds   \n",
      "1      Simon Roup        4.0            Indeed      Fully Meets   \n",
      "2  Kissy Sullivan       20.0          LinkedIn      Fully Meets   \n",
      "3    Elijiah Gray       16.0            Indeed      Fully Meets   \n",
      "4  Webster Butler       39.0     Google Search      Fully Meets   \n",
      "\n",
      "   EngagementSurvey EmpSatisfaction SpecialProjectsCount  \\\n",
      "0              4.60               5                    0   \n",
      "1              4.96               3                    6   \n",
      "2              3.02               3                    0   \n",
      "3              4.84               5                    0   \n",
      "4              5.00               4                    0   \n",
      "\n",
      "  LastPerformanceReview_Date DaysLateLast30 Absences  \n",
      "0                  1/17/2019              0        1  \n",
      "1                  2/24/2016              0       17  \n",
      "2                  5/15/2012              0        3  \n",
      "3                   1/3/2019              0       15  \n",
      "4                   2/1/2016              0        2  \n",
      "\n",
      "[5 rows x 36 columns]\n"
     ]
    }
   ],
   "source": [
    "print(employees.head())\n"
   ]
  },
  {
   "cell_type": "code",
   "execution_count": 8,
   "metadata": {},
   "outputs": [
    {
     "name": "stdout",
     "output_type": "stream",
     "text": [
      "Employee_Name                   0\n",
      "EmpID                           0\n",
      "MarriedID                       0\n",
      "MaritalStatusID                 0\n",
      "GenderID                        0\n",
      "EmpStatusID                     0\n",
      "DeptID                          0\n",
      "PerfScoreID                     0\n",
      "FromDiversityJobFairID          0\n",
      "Salary                          0\n",
      "Termd                           0\n",
      "PositionID                      0\n",
      "Position                        0\n",
      "State                           0\n",
      "Zip                             0\n",
      "DOB                             0\n",
      "Sex                             0\n",
      "MaritalDesc                     0\n",
      "CitizenDesc                     0\n",
      "HispanicLatino                  0\n",
      "RaceDesc                        0\n",
      "DateofHire                      0\n",
      "DateofTermination             207\n",
      "TermReason                      0\n",
      "EmploymentStatus                0\n",
      "Department                      0\n",
      "ManagerName                     0\n",
      "ManagerID                       8\n",
      "RecruitmentSource               0\n",
      "PerformanceScore                0\n",
      "EngagementSurvey                0\n",
      "EmpSatisfaction                 0\n",
      "SpecialProjectsCount            0\n",
      "LastPerformanceReview_Date      0\n",
      "DaysLateLast30                  0\n",
      "Absences                        0\n",
      "dtype: int64\n"
     ]
    }
   ],
   "source": [
    "print(employees.isnull().sum())"
   ]
  },
  {
   "cell_type": "markdown",
   "metadata": {},
   "source": [
    "# Average Salary by Department"
   ]
  },
  {
   "cell_type": "code",
   "execution_count": 11,
   "metadata": {},
   "outputs": [
    {
     "data": {
      "text/html": [
       "<div>\n",
       "<style scoped>\n",
       "    .dataframe tbody tr th:only-of-type {\n",
       "        vertical-align: middle;\n",
       "    }\n",
       "\n",
       "    .dataframe tbody tr th {\n",
       "        vertical-align: top;\n",
       "    }\n",
       "\n",
       "    .dataframe thead th {\n",
       "        text-align: right;\n",
       "    }\n",
       "</style>\n",
       "<table border=\"1\" class=\"dataframe\">\n",
       "  <thead>\n",
       "    <tr style=\"text-align: right;\">\n",
       "      <th></th>\n",
       "      <th>Department</th>\n",
       "      <th>Salary</th>\n",
       "    </tr>\n",
       "  </thead>\n",
       "  <tbody>\n",
       "    <tr>\n",
       "      <th>0</th>\n",
       "      <td>Admin Offices</td>\n",
       "      <td>71791.89</td>\n",
       "    </tr>\n",
       "    <tr>\n",
       "      <th>1</th>\n",
       "      <td>Executive Office</td>\n",
       "      <td>250000.00</td>\n",
       "    </tr>\n",
       "    <tr>\n",
       "      <th>2</th>\n",
       "      <td>IT/IS</td>\n",
       "      <td>97064.64</td>\n",
       "    </tr>\n",
       "    <tr>\n",
       "      <th>3</th>\n",
       "      <td>Production</td>\n",
       "      <td>59953.55</td>\n",
       "    </tr>\n",
       "    <tr>\n",
       "      <th>4</th>\n",
       "      <td>Sales</td>\n",
       "      <td>69061.26</td>\n",
       "    </tr>\n",
       "    <tr>\n",
       "      <th>5</th>\n",
       "      <td>Software Engineering</td>\n",
       "      <td>94989.45</td>\n",
       "    </tr>\n",
       "  </tbody>\n",
       "</table>\n",
       "</div>"
      ],
      "text/plain": [
       "             Department     Salary\n",
       "0         Admin Offices   71791.89\n",
       "1      Executive Office  250000.00\n",
       "2                 IT/IS   97064.64\n",
       "3     Production          59953.55\n",
       "4                 Sales   69061.26\n",
       "5  Software Engineering   94989.45"
      ]
     },
     "execution_count": 11,
     "metadata": {},
     "output_type": "execute_result"
    }
   ],
   "source": [
    "avg_salary_dept = employees.groupby('Department')['Salary'].mean().round(2).reset_index()\n",
    "avg_salary_dept"
   ]
  },
  {
   "cell_type": "markdown",
   "metadata": {},
   "source": [
    "# Employee Turnover Analysis"
   ]
  },
  {
   "cell_type": "code",
   "execution_count": 12,
   "metadata": {},
   "outputs": [
    {
     "data": {
      "text/plain": [
       "TermReason\n",
       "N/A-StillEmployed                   207\n",
       "Another position                     20\n",
       "unhappy                              14\n",
       "more money                           11\n",
       "career change                         9\n",
       "hours                                 8\n",
       "attendance                            7\n",
       "return to school                      5\n",
       "relocation out of area                5\n",
       "no-call, no-show                      4\n",
       "military                              4\n",
       "retiring                              4\n",
       "performance                           4\n",
       "maternity leave - did not return      3\n",
       "medical issues                        3\n",
       "Learned that he is a gangster         1\n",
       "Fatal attraction                      1\n",
       "gross misconduct                      1\n",
       "Name: count, dtype: int64"
      ]
     },
     "execution_count": 12,
     "metadata": {},
     "output_type": "execute_result"
    }
   ],
   "source": [
    "turnover_summary = employees['TermReason'].value_counts()\n",
    "turnover_summary"
   ]
  },
  {
   "cell_type": "markdown",
   "metadata": {},
   "source": [
    "# Performance Scores by Manager"
   ]
  },
  {
   "cell_type": "code",
   "execution_count": 17,
   "metadata": {},
   "outputs": [
    {
     "data": {
      "text/html": [
       "<div>\n",
       "<style scoped>\n",
       "    .dataframe tbody tr th:only-of-type {\n",
       "        vertical-align: middle;\n",
       "    }\n",
       "\n",
       "    .dataframe tbody tr th {\n",
       "        vertical-align: top;\n",
       "    }\n",
       "\n",
       "    .dataframe thead th {\n",
       "        text-align: right;\n",
       "    }\n",
       "</style>\n",
       "<table border=\"1\" class=\"dataframe\">\n",
       "  <thead>\n",
       "    <tr style=\"text-align: right;\">\n",
       "      <th>PerformanceScore</th>\n",
       "      <th>Exceeds</th>\n",
       "      <th>Fully Meets</th>\n",
       "      <th>Needs Improvement</th>\n",
       "      <th>PIP</th>\n",
       "    </tr>\n",
       "    <tr>\n",
       "      <th>ManagerName</th>\n",
       "      <th></th>\n",
       "      <th></th>\n",
       "      <th></th>\n",
       "      <th></th>\n",
       "    </tr>\n",
       "  </thead>\n",
       "  <tbody>\n",
       "    <tr>\n",
       "      <th>Alex Sweetwater</th>\n",
       "      <td>2.0</td>\n",
       "      <td>6.0</td>\n",
       "      <td>1.0</td>\n",
       "      <td>0.0</td>\n",
       "    </tr>\n",
       "    <tr>\n",
       "      <th>Amy Dunn</th>\n",
       "      <td>3.0</td>\n",
       "      <td>15.0</td>\n",
       "      <td>1.0</td>\n",
       "      <td>2.0</td>\n",
       "    </tr>\n",
       "    <tr>\n",
       "      <th>Board of Directors</th>\n",
       "      <td>0.0</td>\n",
       "      <td>2.0</td>\n",
       "      <td>0.0</td>\n",
       "      <td>0.0</td>\n",
       "    </tr>\n",
       "    <tr>\n",
       "      <th>Brandon R. LeBlanc</th>\n",
       "      <td>0.0</td>\n",
       "      <td>7.0</td>\n",
       "      <td>0.0</td>\n",
       "      <td>0.0</td>\n",
       "    </tr>\n",
       "    <tr>\n",
       "      <th>Brannon Miller</th>\n",
       "      <td>7.0</td>\n",
       "      <td>10.0</td>\n",
       "      <td>1.0</td>\n",
       "      <td>4.0</td>\n",
       "    </tr>\n",
       "    <tr>\n",
       "      <th>Brian Champaigne</th>\n",
       "      <td>0.0</td>\n",
       "      <td>8.0</td>\n",
       "      <td>0.0</td>\n",
       "      <td>0.0</td>\n",
       "    </tr>\n",
       "    <tr>\n",
       "      <th>David Stanley</th>\n",
       "      <td>1.0</td>\n",
       "      <td>19.0</td>\n",
       "      <td>1.0</td>\n",
       "      <td>0.0</td>\n",
       "    </tr>\n",
       "    <tr>\n",
       "      <th>Debra Houlihan</th>\n",
       "      <td>0.0</td>\n",
       "      <td>2.0</td>\n",
       "      <td>1.0</td>\n",
       "      <td>0.0</td>\n",
       "    </tr>\n",
       "    <tr>\n",
       "      <th>Elijiah Gray</th>\n",
       "      <td>2.0</td>\n",
       "      <td>18.0</td>\n",
       "      <td>2.0</td>\n",
       "      <td>0.0</td>\n",
       "    </tr>\n",
       "    <tr>\n",
       "      <th>Eric Dougall</th>\n",
       "      <td>1.0</td>\n",
       "      <td>3.0</td>\n",
       "      <td>0.0</td>\n",
       "      <td>0.0</td>\n",
       "    </tr>\n",
       "    <tr>\n",
       "      <th>Janet King</th>\n",
       "      <td>4.0</td>\n",
       "      <td>13.0</td>\n",
       "      <td>2.0</td>\n",
       "      <td>0.0</td>\n",
       "    </tr>\n",
       "    <tr>\n",
       "      <th>Jennifer Zamora</th>\n",
       "      <td>2.0</td>\n",
       "      <td>4.0</td>\n",
       "      <td>1.0</td>\n",
       "      <td>0.0</td>\n",
       "    </tr>\n",
       "    <tr>\n",
       "      <th>John Smith</th>\n",
       "      <td>0.0</td>\n",
       "      <td>12.0</td>\n",
       "      <td>0.0</td>\n",
       "      <td>2.0</td>\n",
       "    </tr>\n",
       "    <tr>\n",
       "      <th>Kelley Spirea</th>\n",
       "      <td>3.0</td>\n",
       "      <td>18.0</td>\n",
       "      <td>1.0</td>\n",
       "      <td>0.0</td>\n",
       "    </tr>\n",
       "    <tr>\n",
       "      <th>Ketsia Liebig</th>\n",
       "      <td>2.0</td>\n",
       "      <td>18.0</td>\n",
       "      <td>1.0</td>\n",
       "      <td>0.0</td>\n",
       "    </tr>\n",
       "    <tr>\n",
       "      <th>Kissy Sullivan</th>\n",
       "      <td>2.0</td>\n",
       "      <td>18.0</td>\n",
       "      <td>1.0</td>\n",
       "      <td>1.0</td>\n",
       "    </tr>\n",
       "    <tr>\n",
       "      <th>Lynn Daneault</th>\n",
       "      <td>2.0</td>\n",
       "      <td>9.0</td>\n",
       "      <td>0.0</td>\n",
       "      <td>2.0</td>\n",
       "    </tr>\n",
       "    <tr>\n",
       "      <th>Michael Albert</th>\n",
       "      <td>2.0</td>\n",
       "      <td>16.0</td>\n",
       "      <td>3.0</td>\n",
       "      <td>1.0</td>\n",
       "    </tr>\n",
       "    <tr>\n",
       "      <th>Peter Monroe</th>\n",
       "      <td>0.0</td>\n",
       "      <td>13.0</td>\n",
       "      <td>0.0</td>\n",
       "      <td>1.0</td>\n",
       "    </tr>\n",
       "    <tr>\n",
       "      <th>Simon Roup</th>\n",
       "      <td>2.0</td>\n",
       "      <td>15.0</td>\n",
       "      <td>0.0</td>\n",
       "      <td>0.0</td>\n",
       "    </tr>\n",
       "    <tr>\n",
       "      <th>Webster Butler</th>\n",
       "      <td>2.0</td>\n",
       "      <td>17.0</td>\n",
       "      <td>2.0</td>\n",
       "      <td>0.0</td>\n",
       "    </tr>\n",
       "  </tbody>\n",
       "</table>\n",
       "</div>"
      ],
      "text/plain": [
       "PerformanceScore    Exceeds  Fully Meets  Needs Improvement  PIP\n",
       "ManagerName                                                     \n",
       "Alex Sweetwater         2.0          6.0                1.0  0.0\n",
       "Amy Dunn                3.0         15.0                1.0  2.0\n",
       "Board of Directors      0.0          2.0                0.0  0.0\n",
       "Brandon R. LeBlanc      0.0          7.0                0.0  0.0\n",
       "Brannon Miller          7.0         10.0                1.0  4.0\n",
       "Brian Champaigne        0.0          8.0                0.0  0.0\n",
       "David Stanley           1.0         19.0                1.0  0.0\n",
       "Debra Houlihan          0.0          2.0                1.0  0.0\n",
       "Elijiah Gray            2.0         18.0                2.0  0.0\n",
       "Eric Dougall            1.0          3.0                0.0  0.0\n",
       "Janet King              4.0         13.0                2.0  0.0\n",
       "Jennifer Zamora         2.0          4.0                1.0  0.0\n",
       "John Smith              0.0         12.0                0.0  2.0\n",
       "Kelley Spirea           3.0         18.0                1.0  0.0\n",
       "Ketsia Liebig           2.0         18.0                1.0  0.0\n",
       "Kissy Sullivan          2.0         18.0                1.0  1.0\n",
       "Lynn Daneault           2.0          9.0                0.0  2.0\n",
       "Michael Albert          2.0         16.0                3.0  1.0\n",
       "Peter Monroe            0.0         13.0                0.0  1.0\n",
       "Simon Roup              2.0         15.0                0.0  0.0\n",
       "Webster Butler          2.0         17.0                2.0  0.0"
      ]
     },
     "execution_count": 17,
     "metadata": {},
     "output_type": "execute_result"
    }
   ],
   "source": [
    "performance_by_manager = employees.groupby('ManagerName')['PerformanceScore'].value_counts().unstack().fillna(0)\n",
    "performance_by_manager"
   ]
  },
  {
   "cell_type": "markdown",
   "metadata": {},
   "source": [
    "# Days Late and Absences Correlation"
   ]
  },
  {
   "cell_type": "code",
   "execution_count": 18,
   "metadata": {},
   "outputs": [
    {
     "data": {
      "image/png": "[encoded data removed]",
      "text/plain": [
       "<Figure size 640x480 with 1 Axes>"
      ]
     },
     "metadata": {},
     "output_type": "display_data"
    }
   ],
   "source": [
    "sns.scatterplot(data=employees, x='Absences', y='DaysLateLast30')\n",
    "plt.title('Absences vs Days Late in Last 30 Days')\n",
    "plt.show()"
   ]
  },
  {
   "cell_type": "code",
   "execution_count": 19,
   "metadata": {},
   "outputs": [
    {
     "name": "stdout",
     "output_type": "stream",
     "text": [
      "                Absences  DaysLateLast30\n",
      "Absences        1.000000        0.001833\n",
      "DaysLateLast30  0.001833        1.000000\n"
     ]
    }
   ],
   "source": [
    "correlation = employees[['Absences', 'DaysLateLast30']].corr()\n",
    "print(correlation)"
   ]
  },
  {
   "cell_type": "markdown",
   "metadata": {},
   "source": [
    "# Quantity of Employees by Manager"
   ]
  },
  {
   "cell_type": "code",
   "execution_count": 20,
   "metadata": {},
   "outputs": [
    {
     "data": {
      "text/plain": [
       "ManagerName\n",
       "Michael Albert        22\n",
       "Kissy Sullivan        22\n",
       "Elijiah Gray          22\n",
       "Kelley Spirea         22\n",
       "Brannon Miller        22\n",
       "Ketsia Liebig         21\n",
       "David Stanley         21\n",
       "Amy Dunn              21\n",
       "Webster Butler        21\n",
       "Janet King            19\n",
       "Simon Roup            17\n",
       "Peter Monroe          14\n",
       "John Smith            14\n",
       "Lynn Daneault         13\n",
       "Alex Sweetwater        9\n",
       "Brian Champaigne       8\n",
       "Brandon R. LeBlanc     7\n",
       "Jennifer Zamora        7\n",
       "Eric Dougall           4\n",
       "Debra Houlihan         3\n",
       "Board of Directors     2\n",
       "Name: count, dtype: int64"
      ]
     },
     "execution_count": 20,
     "metadata": {},
     "output_type": "execute_result"
    }
   ],
   "source": [
    "manager_counts = employees['ManagerName'].value_counts()\n",
    "manager_counts"
   ]
  },
  {
   "cell_type": "markdown",
   "metadata": {},
   "source": [
    "# Engagement Survey"
   ]
  },
  {
   "cell_type": "code",
   "execution_count": 21,
   "metadata": {},
   "outputs": [
    {
     "data": {
      "image/png": "[encoded data removed]",
      "text/plain": [
       "<Figure size 640x480 with 1 Axes>"
      ]
     },
     "metadata": {},
     "output_type": "display_data"
    }
   ],
   "source": [
    "sns.histplot(employees['EngagementSurvey'], bins=10, kde=True)\n",
    "plt.title('Engagement Survey Score Distribution')\n",
    "plt.show()"
   ]
  },
  {
   "cell_type": "markdown",
   "metadata": {},
   "source": [
    "# Satisfaction Score "
   ]
  },
  {
   "cell_type": "code",
   "execution_count": 22,
   "metadata": {},
   "outputs": [
    {
     "data": {
      "image/png": "[encoded data removed]",
      "text/plain": [
       "<Figure size 640x480 with 1 Axes>"
      ]
     },
     "metadata": {},
     "output_type": "display_data"
    }
   ],
   "source": [
    "sns.histplot(employees['EmpSatisfaction'], bins=10, kde=True)\n",
    "plt.title('Employee Satisfaction Score Distribution')\n",
    "plt.show()"
   ]
  },
  {
   "cell_type": "markdown",
   "metadata": {},
   "source": [
    "# Employment Status by Gender"
   ]
  },
  {
   "cell_type": "code",
   "execution_count": 24,
   "metadata": {},
   "outputs": [
    {
     "data": {
      "text/html": [
       "<div>\n",
       "<style scoped>\n",
       "    .dataframe tbody tr th:only-of-type {\n",
       "        vertical-align: middle;\n",
       "    }\n",
       "\n",
       "    .dataframe tbody tr th {\n",
       "        vertical-align: top;\n",
       "    }\n",
       "\n",
       "    .dataframe thead th {\n",
       "        text-align: right;\n",
       "    }\n",
       "</style>\n",
       "<table border=\"1\" class=\"dataframe\">\n",
       "  <thead>\n",
       "    <tr style=\"text-align: right;\">\n",
       "      <th>Sex</th>\n",
       "      <th>F</th>\n",
       "      <th>M</th>\n",
       "    </tr>\n",
       "    <tr>\n",
       "      <th>EmploymentStatus</th>\n",
       "      <th></th>\n",
       "      <th></th>\n",
       "    </tr>\n",
       "  </thead>\n",
       "  <tbody>\n",
       "    <tr>\n",
       "      <th>Active</th>\n",
       "      <td>116</td>\n",
       "      <td>91</td>\n",
       "    </tr>\n",
       "    <tr>\n",
       "      <th>Terminated for Cause</th>\n",
       "      <td>9</td>\n",
       "      <td>7</td>\n",
       "    </tr>\n",
       "    <tr>\n",
       "      <th>Voluntarily Terminated</th>\n",
       "      <td>51</td>\n",
       "      <td>37</td>\n",
       "    </tr>\n",
       "  </tbody>\n",
       "</table>\n",
       "</div>"
      ],
      "text/plain": [
       "Sex                       F  M \n",
       "EmploymentStatus               \n",
       "Active                  116  91\n",
       "Terminated for Cause      9   7\n",
       "Voluntarily Terminated   51  37"
      ]
     },
     "execution_count": 24,
     "metadata": {},
     "output_type": "execute_result"
    }
   ],
   "source": [
    "employment_gender = employees.pivot_table(index='EmploymentStatus', columns='Sex', aggfunc='size', fill_value=0)\n",
    "employment_gender"
   ]
  }
 ],
 "metadata": {
  "kernelspec": {
   "display_name": ".venv",
   "language": "python",
   "name": "python3"
  },
  "language_info": {
   "codemirror_mode": {
    "name": "ipython",
    "version": 3
   },
   "file_extension": ".py",
   "mimetype": "text/x-python",
   "name": "python",
   "nbconvert_exporter": "python",
   "pygments_lexer": "ipython3",
   "version": "3.10.12"
  }
 },
 "nbformat": 4,
 "nbformat_minor": 2
}
